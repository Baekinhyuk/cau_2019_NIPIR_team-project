{
 "cells": [
  {
   "cell_type": "code",
   "execution_count": 54,
   "metadata": {},
   "outputs": [
    {
     "name": "stdout",
     "output_type": "stream",
     "text": [
      "5826\n"
     ]
    }
   ],
   "source": [
    "from konlpy.tag import Okt\n",
    "from collections import OrderedDict\n",
    "import numpy as np\n",
    "import json\n",
    "from math import log10\n",
    "import pickle\n",
    "import pandas as pd\n",
    "import re\n",
    "\n",
    "def f(t, d):\n",
    "    return d.count(t)\n",
    "\n",
    "def tf(t, d):\n",
    "    return 0.5 + 0.5*f(t,d)/max([f(w,d) for w in d])\n",
    "\n",
    "def idf(t, D):\n",
    "    # D is documents == document list\n",
    "    numerator = len(D)\n",
    "    denominator = 1 + len([ True for d in D if t in d])\n",
    "    return log10(numerator/denominator)\n",
    "\n",
    "def tfidf(t, d, D):\n",
    "    return tf(t,d)*idf(t, D)\n",
    "\n",
    "file = open('vsm_raw_fix.pickle',\"rb\")\n",
    "c = pickle.load(file)\n",
    "file.close\n",
    "\n",
    "list_word = list(c.keys())\n",
    "\n",
    "tfidf = np.zeros((len(list_word),10),dtype = int)\n",
    "idf = np.zeros((len(list_word),10),dtype = int)\n",
    "\n",
    "tf_csv = pd.read_csv(\"tf.csv\")\n",
    "\n",
    "m = []\n",
    "word = []\n",
    "tf = tf_csv.values\n",
    "\n",
    "\n",
    "for i in range(len(tf)):\n",
    "    buf = np.array(tf[i])\n",
    "    avg = np.mean(buf)\n",
    "    for j in range(10):\n",
    "        if(avg*2 < buf[j]):\n",
    "            m.append(i)\n",
    "            break;\n",
    "\n",
    "\n",
    "for i in range(len(m)):\n",
    "    word.append(list_word[m[i]])\n",
    "    \n",
    "print(len(word))\n",
    "\n",
    "with open('vsm_newnew.pickle', 'wb') as f:\n",
    "    pickle.dump(word, f)\n"
   ]
  },
  {
   "cell_type": "code",
   "execution_count": null,
   "metadata": {},
   "outputs": [],
   "source": []
  }
 ],
 "metadata": {
  "kernelspec": {
   "display_name": "Python 3",
   "language": "python",
   "name": "python3"
  },
  "language_info": {
   "codemirror_mode": {
    "name": "ipython",
    "version": 3
   },
   "file_extension": ".py",
   "mimetype": "text/x-python",
   "name": "python",
   "nbconvert_exporter": "python",
   "pygments_lexer": "ipython3",
   "version": "3.6.8"
  }
 },
 "nbformat": 4,
 "nbformat_minor": 2
}
