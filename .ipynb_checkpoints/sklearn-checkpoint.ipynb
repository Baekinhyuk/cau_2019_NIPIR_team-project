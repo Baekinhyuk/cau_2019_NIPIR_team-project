{
 "cells": [
  {
   "cell_type": "code",
   "execution_count": 0,
   "metadata": {
    "colab": {},
    "colab_type": "code",
    "id": "XC9pibMzHDm-"
   },
   "outputs": [],
   "source": [
    "from sklearn.feature_extraction.text import TfidfVectorizer\n",
    "from sklearn.metrics.pairwise import cosine_similarity\n",
    "import os"
   ]
  },
  {
   "cell_type": "code",
   "execution_count": 0,
   "metadata": {
    "colab": {},
    "colab_type": "code",
    "id": "vNFwXA_CNnXi"
   },
   "outputs": [],
   "source": [
    "from konlpy.tag import Okt\n",
    "\n",
    "okt=Okt()\n",
    "\n"
   ]
  },
  {
   "cell_type": "code",
   "execution_count": 22,
   "metadata": {
    "colab": {
     "base_uri": "https://localhost:8080/",
     "height": 52
    },
    "colab_type": "code",
    "executionInfo": {
     "elapsed": 19315,
     "status": "ok",
     "timestamp": 1559802150603,
     "user": {
      "displayName": "손상혁",
      "photoUrl": "",
      "userId": "02727044294362430203"
     },
     "user_tz": -540
    },
    "id": "u-eo5yiZPglI",
    "outputId": "06abc136-7d84-456f-a2bb-f3fcc7c07e00"
   },
   "outputs": [
    {
     "name": "stdout",
     "output_type": "stream",
     "text": [
      "최악 쓰레기 노잼 끔찍 지루 \n",
      "['최악', '쓰레기', '노잼', '끔', '찍', '지루']\n"
     ]
    }
   ],
   "source": [
    "query = input()\n",
    "query = okt.morphs(query)\n",
    "print(query)"
   ]
  },
  {
   "cell_type": "code",
   "execution_count": 0,
   "metadata": {
    "colab": {},
    "colab_type": "code",
    "id": "j0cXdLRFbdMy"
   },
   "outputs": [],
   "source": [
    "file_list = os.listdir('/content/gdrive/My Drive/IR/data')"
   ]
  },
  {
   "cell_type": "code",
   "execution_count": 0,
   "metadata": {
    "colab": {},
    "colab_type": "code",
    "id": "rvE1JS0Cbivc"
   },
   "outputs": [],
   "source": [
    "data_dict={'rating1_docs.txt':[],'rating2_docs.txt':[],'rating3_docs.txt':[],'rating4_docs.txt':[],'rating5_docs.txt':[],'rating6_docs.txt':[],'rating7_docs.txt':[],'rating8_docs.txt':[],'rating9_docs.txt':[],'rating10_docs.txt':[]}"
   ]
  },
  {
   "cell_type": "code",
   "execution_count": 0,
   "metadata": {
    "colab": {},
    "colab_type": "code",
    "id": "PAWeDb4JHNlm"
   },
   "outputs": [],
   "source": [
    "def read_data(filename):\n",
    "  with open('/content/gdrive/My Drive/IR/data/'+filename,'r') as f:\n",
    "    data = f.read()\n",
    "  return data"
   ]
  },
  {
   "cell_type": "code",
   "execution_count": 0,
   "metadata": {
    "colab": {},
    "colab_type": "code",
    "id": "9T0hH92hbqO8"
   },
   "outputs": [],
   "source": [
    "for file_name in file_list:\n",
    "  data_dict[file_name] = read_data(file_name)"
   ]
  },
  {
   "cell_type": "code",
   "execution_count": 0,
   "metadata": {
    "colab": {},
    "colab_type": "code",
    "id": "2It9UWVRHhTy"
   },
   "outputs": [],
   "source": [
    "corpus=[]"
   ]
  },
  {
   "cell_type": "code",
   "execution_count": 0,
   "metadata": {
    "colab": {},
    "colab_type": "code",
    "id": "lFbo9I9MHkpQ"
   },
   "outputs": [],
   "source": [
    "for file_name in file_list:\n",
    "  corpus.append(data_dict[file_name])"
   ]
  },
  {
   "cell_type": "code",
   "execution_count": 0,
   "metadata": {
    "colab": {},
    "colab_type": "code",
    "id": "7ABvDeNoOXIa"
   },
   "outputs": [],
   "source": [
    "corpus.append(query[0])"
   ]
  },
  {
   "cell_type": "code",
   "execution_count": 0,
   "metadata": {
    "colab": {},
    "colab_type": "code",
    "id": "QuK7MwfXH3H2"
   },
   "outputs": [],
   "source": [
    "tfidv = TfidfVectorizer()"
   ]
  },
  {
   "cell_type": "code",
   "execution_count": 0,
   "metadata": {
    "colab": {},
    "colab_type": "code",
    "id": "cGJJ0T8XI1Q-"
   },
   "outputs": [],
   "source": [
    "X = tfidv.fit_transform(corpus)"
   ]
  },
  {
   "cell_type": "code",
   "execution_count": 28,
   "metadata": {
    "colab": {
     "base_uri": "https://localhost:8080/",
     "height": 34
    },
    "colab_type": "code",
    "executionInfo": {
     "elapsed": 585,
     "status": "ok",
     "timestamp": 1559802180227,
     "user": {
      "displayName": "손상혁",
      "photoUrl": "",
      "userId": "02727044294362430203"
     },
     "user_tz": -540
    },
    "id": "wtdbBs9nJ_01",
    "outputId": "bc44e7c8-7565-4062-cbe5-1b8d97c60efd"
   },
   "outputs": [
    {
     "name": "stdout",
     "output_type": "stream",
     "text": [
      "(11, 468289)\n"
     ]
    }
   ],
   "source": [
    "print(X.shape)"
   ]
  },
  {
   "cell_type": "code",
   "execution_count": 29,
   "metadata": {
    "colab": {
     "base_uri": "https://localhost:8080/",
     "height": 246
    },
    "colab_type": "code",
    "executionInfo": {
     "elapsed": 7224,
     "status": "ok",
     "timestamp": 1559802188254,
     "user": {
      "displayName": "손상혁",
      "photoUrl": "",
      "userId": "02727044294362430203"
     },
     "user_tz": -540
    },
    "id": "q6XOHHJzIPm0",
    "outputId": "ab85c91c-fdde-4f26-8086-4f93562d4e17"
   },
   "outputs": [
    {
     "data": {
      "text/plain": [
       "array([[9.22948912e-04, 0.00000000e+00, 0.00000000e+00, ...,\n",
       "        0.00000000e+00, 0.00000000e+00, 0.00000000e+00],\n",
       "       [0.00000000e+00, 2.41511114e-04, 0.00000000e+00, ...,\n",
       "        0.00000000e+00, 0.00000000e+00, 0.00000000e+00],\n",
       "       [0.00000000e+00, 2.10979079e-04, 0.00000000e+00, ...,\n",
       "        0.00000000e+00, 0.00000000e+00, 0.00000000e+00],\n",
       "       ...,\n",
       "       [1.54436037e-04, 4.21405381e-05, 0.00000000e+00, ...,\n",
       "        8.37062732e-05, 0.00000000e+00, 0.00000000e+00],\n",
       "       [2.35273240e-04, 8.55978188e-05, 3.63334513e-05, ...,\n",
       "        0.00000000e+00, 0.00000000e+00, 0.00000000e+00],\n",
       "       [0.00000000e+00, 0.00000000e+00, 0.00000000e+00, ...,\n",
       "        0.00000000e+00, 0.00000000e+00, 0.00000000e+00]])"
      ]
     },
     "execution_count": 29,
     "metadata": {
      "tags": []
     },
     "output_type": "execute_result"
    }
   ],
   "source": [
    "tfidv.transform(corpus).toarray()"
   ]
  },
  {
   "cell_type": "code",
   "execution_count": 30,
   "metadata": {
    "colab": {
     "base_uri": "https://localhost:8080/",
     "height": 70
    },
    "colab_type": "code",
    "executionInfo": {
     "elapsed": 586,
     "status": "ok",
     "timestamp": 1559802190275,
     "user": {
      "displayName": "손상혁",
      "photoUrl": "",
      "userId": "02727044294362430203"
     },
     "user_tz": -540
    },
    "id": "8uBAe-riIT9u",
    "outputId": "31d21d20-e815-4997-d1fc-f40215d9f2c6"
   },
   "outputs": [
    {
     "data": {
      "text/plain": [
       "array([[4.65888907e-02, 3.23053836e-02, 2.04154159e-02, 7.90644401e-02,\n",
       "        1.31469819e-02, 5.86431673e-03, 2.58884104e-03, 1.81115804e-03,\n",
       "        1.28928362e-03, 8.75488576e-04, 1.00000000e+00]])"
      ]
     },
     "execution_count": 30,
     "metadata": {
      "tags": []
     },
     "output_type": "execute_result"
    }
   ],
   "source": [
    "cosine_similarity(X[-1], X)"
   ]
  },
  {
   "cell_type": "code",
   "execution_count": 33,
   "metadata": {
    "colab": {
     "base_uri": "https://localhost:8080/",
     "height": 54
    },
    "colab_type": "code",
    "executionInfo": {
     "elapsed": 588,
     "status": "ok",
     "timestamp": 1559802246071,
     "user": {
      "displayName": "손상혁",
      "photoUrl": "",
      "userId": "02727044294362430203"
     },
     "user_tz": -540
    },
    "id": "CDg8qPi3dU99",
    "outputId": "4d7dae33-42ef-481c-d26f-c700c89eec58"
   },
   "outputs": [
    {
     "name": "stdout",
     "output_type": "stream",
     "text": [
      "['rating2_docs.txt', 'rating3_docs.txt', 'rating4_docs.txt', 'rating1_docs.txt', 'rating5_docs.txt', 'rating6_docs.txt', 'rating7_docs.txt', 'rating8_docs.txt', 'rating9_docs.txt', 'rating10_docs.txt']\n"
     ]
    }
   ],
   "source": [
    "print(file_list)"
   ]
  }
 ],
 "metadata": {
  "colab": {
   "collapsed_sections": [],
   "name": "sklearn.ipynb",
   "provenance": [],
   "version": "0.3.2"
  },
  "kernelspec": {
   "display_name": "Python 3",
   "language": "python",
   "name": "python3"
  },
  "language_info": {
   "codemirror_mode": {
    "name": "ipython",
    "version": 3
   },
   "file_extension": ".py",
   "mimetype": "text/x-python",
   "name": "python",
   "nbconvert_exporter": "python",
   "pygments_lexer": "ipython3",
   "version": "3.7.1"
  }
 },
 "nbformat": 4,
 "nbformat_minor": 1
}
