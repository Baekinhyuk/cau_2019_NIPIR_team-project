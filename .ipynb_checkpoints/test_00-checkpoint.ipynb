{
 "cells": [
  {
   "cell_type": "code",
   "execution_count": 159,
   "metadata": {},
   "outputs": [
    {
     "name": "stdout",
     "output_type": "stream",
     "text": [
      "7430\n",
      "10000\n",
      "0\n",
      "1000\n",
      "2000\n",
      "3000\n",
      "4000\n",
      "5000\n",
      "6000\n",
      "7000\n",
      "8000\n",
      "9000\n"
     ]
    }
   ],
   "source": [
    "from konlpy.tag import Okt\n",
    "from collections import OrderedDict\n",
    "import numpy as np\n",
    "import json\n",
    "from math import log10\n",
    "\n",
    "def f(t, d):\n",
    "    return d.count(t)\n",
    "\n",
    "def tf(t, d):\n",
    "    return 0.5 + 0.5*f(t,d)/max([f(w,d) for w in d])\n",
    "\n",
    "def idf(t, D):\n",
    "    # D is documents == document list\n",
    "    numerator = len(D)\n",
    "    denominator = 1 + len([ True for d in D if t in d])\n",
    "    return log10(numerator/denominator)\n",
    "\n",
    "def tfidf(t, d, D):\n",
    "    return tf(t,d)*idf(t, D)\n",
    "\n",
    "\n",
    "with open('vsm_over100.txt','r',encoding=\"utf8\") as file:\n",
    "    vsm = json.load(file)\n",
    "print(len(vsm))\n",
    "    \n",
    "data = []\n",
    "count = 0\n",
    "\n",
    "size = 1000\n",
    "score = np.zeros(size*10,dtype = int)\n",
    "\n",
    "for i in range(10):\n",
    "    rate = i+1\n",
    "    file ='rating{}_docs.json'.format(i+1)\n",
    "    with open(file,encoding = \"utf-8\") as data_file:\n",
    "        da = json.load(data_file, object_pairs_hook=OrderedDict)\n",
    "        for m in range(len(da)):\n",
    "            if(m == size):\n",
    "                break\n",
    "            score[count+m] = rate\n",
    "        count += len(da[0:size])\n",
    "        data += da[0:size]\n",
    "\n",
    "num_data = len(data)\n",
    "print(num_data)\n",
    "result = np.zeros((len(vsm),num_data),dtype = float)\n",
    "\n",
    "\n",
    "for i in range(len(data)):\n",
    "    if(i%size == 0):\n",
    "        print(i)\n",
    "    for j in range(len(data[i])):\n",
    "        if data[i][j] in vsm:\n",
    "               result[vsm.index(data[i][j])][i] = tfidf(data[i][j],data[i],data)\n",
    "\n",
    "np.savetxt(\"tfidf.csv\",result,delimiter=\",\")\n",
    "            \n"
   ]
  },
  {
   "cell_type": "code",
   "execution_count": 115,
   "metadata": {},
   "outputs": [
    {
     "name": "stdout",
     "output_type": "stream",
     "text": [
      "237894\n",
      "2080\n"
     ]
    }
   ],
   "source": [
    "import pickle\n",
    "import json\n",
    "file = open(\"vsm.txt\",\"rb\")\n",
    "c = pickle.load(file)\n",
    "file.close\n",
    "\n",
    "print(len(c))\n",
    "\n",
    "new_vsm = []\n",
    "\n",
    "for key, val in c.items():\n",
    "    if val > 500:\n",
    "        new_vsm.append(key)\n",
    "\n",
    "print(len(new_vsm))\n",
    "with open('vsm_over500.txt','w',encoding=\"utf8\") as f:\n",
    "    json.dump(new_vsm,f,ensure_ascii=False)\n"
   ]
  },
  {
   "cell_type": "code",
   "execution_count": null,
   "metadata": {},
   "outputs": [],
   "source": [
    "from konlpy.tag import Okt\n",
    "from collections import OrderedDict\n",
    "import numpy as np\n",
    "import json\n",
    "from math import log10\n",
    "\n",
    "def f(t, d):\n",
    "    return d.count(t)\n",
    "\n",
    "def tf(t, d):\n",
    "    return 0.5 + 0.5*f(t,d)/max([f(w,d) for w in d])\n",
    "\n",
    "def idf(t, D):\n",
    "    # D is documents == document list\n",
    "    numerator = len(D)\n",
    "    denominator = 1 + len([ True for d in D if t in d])\n",
    "    return log10(numerator/denominator)\n",
    "\n",
    "def tfidf(t, d, D):\n",
    "    return tf(t,d)*idf(t, D)\n",
    "\n",
    "with open('vsm_over.json','r',encoding=\"utf8\") as f:\n",
    "    vsm = json.load(f)\n",
    "\n",
    "\n"
   ]
  }
 ],
 "metadata": {
  "kernelspec": {
   "display_name": "Python 3",
   "language": "python",
   "name": "python3"
  },
  "language_info": {
   "codemirror_mode": {
    "name": "ipython",
    "version": 3
   },
   "file_extension": ".py",
   "mimetype": "text/x-python",
   "name": "python",
   "nbconvert_exporter": "python",
   "pygments_lexer": "ipython3",
   "version": "3.7.1"
  }
 },
 "nbformat": 4,
 "nbformat_minor": 2
}
