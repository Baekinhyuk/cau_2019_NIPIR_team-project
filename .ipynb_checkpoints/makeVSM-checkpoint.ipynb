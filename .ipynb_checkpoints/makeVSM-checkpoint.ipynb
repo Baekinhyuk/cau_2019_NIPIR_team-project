{
 "cells": [
  {
   "cell_type": "code",
   "execution_count": 5,
   "metadata": {},
   "outputs": [
    {
     "data": {
      "text/plain": [
       "<function BufferedReader.close>"
      ]
     },
     "execution_count": 5,
     "metadata": {},
     "output_type": "execute_result"
    }
   ],
   "source": [
    "# vsm.tct (딕셔너리)\n",
    "# key = word / value = freq\n",
    "\n",
    "import pickle\n",
    "import json\n",
    "from pprint import pprint as pp\n",
    "\n",
    "\n",
    "file = open(\"vsm.txt\",\"rb\")\n",
    "c = pickle.load(file)\n",
    "file.close\n",
    "\n",
    "\n"
   ]
  },
  {
   "cell_type": "code",
   "execution_count": null,
   "metadata": {},
   "outputs": [],
   "source": [
    "for i in range(10):\n",
    "    rate = i+1\n",
    "    file ='data\\\\rating{}_docs.json'.format(i+1)\n",
    "    with open(file,encoding = \"utf-8\") as data_file:\n",
    "        da = json.load(data_file, object_pairs_hook=OrderedDict)\n",
    "        for m in range(len(da)):\n",
    "            if(m == size):\n",
    "                break\n",
    "            score[count+m] = rate\n",
    "        count += len(da[0:size])\n",
    "        data += da[0:size]\n"
   ]
  },
  {
   "cell_type": "code",
   "execution_count": 6,
   "metadata": {},
   "outputs": [
    {
     "name": "stdout",
     "output_type": "stream",
     "text": [
      "ㅊㅋ\n"
     ]
    }
   ],
   "source": [
    "import re\n",
    "text = 'ㅊㅋㅊㅋ'\n",
    "text = re.sub('[ㅊㅋ]+','ㅊㅋ',text)\n",
    "print(text)"
   ]
  },
  {
   "cell_type": "code",
   "execution_count": null,
   "metadata": {},
   "outputs": [],
   "source": []
  }
 ],
 "metadata": {
  "kernelspec": {
   "display_name": "Python 3",
   "language": "python",
   "name": "python3"
  },
  "language_info": {
   "codemirror_mode": {
    "name": "ipython",
    "version": 3
   },
   "file_extension": ".py",
   "mimetype": "text/x-python",
   "name": "python",
   "nbconvert_exporter": "python",
   "pygments_lexer": "ipython3",
   "version": "3.7.1"
  }
 },
 "nbformat": 4,
 "nbformat_minor": 2
}
