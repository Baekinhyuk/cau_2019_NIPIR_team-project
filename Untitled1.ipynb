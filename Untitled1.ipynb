{
 "cells": [
  {
   "cell_type": "code",
   "execution_count": 24,
   "metadata": {},
   "outputs": [
    {
     "name": "stdout",
     "output_type": "stream",
     "text": [
      "5\n"
     ]
    }
   ],
   "source": [
    "from konlpy.tag import Okt\n",
    "from collections import OrderedDict\n",
    "import numpy as np\n",
    "from numpy.linalg import norm\n",
    "import json\n",
    "from math import log10\n",
    "import pickle\n",
    "import pandas as pd\n",
    "import re\n",
    "\n",
    "\n",
    "def getScore(A, B):\n",
    "    result = []\n",
    "    for i in range(10):\n",
    "        result.append(cos_sim(tf,B[:,i]))\n",
    "    return result.index(max(result))+1\n",
    "\n",
    "def cos_sim(A, B):\n",
    "    return np.dot(A, B)/(norm(A)*norm(B))\n",
    "\n",
    "file = open('vsm_raw_fix.pickle',\"rb\")\n",
    "c = pickle.load(file)\n",
    "file.close\n",
    "\n",
    "list_word = list(c.keys())\n",
    "\n",
    "okt = Okt()\n",
    "\n",
    "tf = np.zeros(len(list_word),dtype = int)\n",
    "\n",
    "tf_csv = pd.read_csv(\"tf.csv\")\n",
    "\n",
    "trainData = tf_csv.values\n",
    "\n",
    "input = \"7광구 염력을 피했는데 이걸 못 피했네\"\n",
    "\n",
    "input_morphs = okt.morphs(input)\n",
    "\n",
    "for i in range(len(input_morphs)):\n",
    "    if input_morphs[i] in list_word:\n",
    "        tf[list_word.index(input_morphs[i])] += 1\n",
    "        \n",
    "print(getScore(tf,trainData))\n"
   ]
  },
  {
   "cell_type": "code",
   "execution_count": 45,
   "metadata": {},
   "outputs": [
    {
     "name": "stderr",
     "output_type": "stream",
     "text": [
      "C:\\Users\\Melon\\Anaconda3\\lib\\site-packages\\ipykernel_launcher.py:19: RuntimeWarning: invalid value encountered in double_scalars\n"
     ]
    },
    {
     "name": "stdout",
     "output_type": "stream",
     "text": [
      "정확도 :  0.5053\n"
     ]
    }
   ],
   "source": [
    "from konlpy.tag import Okt\n",
    "from collections import OrderedDict\n",
    "import numpy as np\n",
    "from numpy.linalg import norm\n",
    "import json\n",
    "from math import log10\n",
    "import pickle\n",
    "import pandas as pd\n",
    "import re\n",
    "\n",
    "\n",
    "def getScore(A, B):\n",
    "    result = []\n",
    "    for i in range(10):\n",
    "        result.append(cos_sim(tf,B[:,i]))\n",
    "    return result.index(max(result))\n",
    "\n",
    "def cos_sim(A, B):\n",
    "    return np.dot(A, B)/(norm(A)*norm(B))\n",
    "\n",
    "file = open('vsm_newnew.pickle',\"rb\")\n",
    "list_word = pickle.load(file)\n",
    "file.close\n",
    "\n",
    "okt = Okt()\n",
    "\n",
    "score = {0:0,1:0,2:0,3:1,4:1,5:1,6:1,7:2,8:2,9:2,10:2}\n",
    "\n",
    "\n",
    "tf_csv = pd.read_csv(\"tf_new.csv\")\n",
    "\n",
    "trainData = tf_csv.values\n",
    "\n",
    "t = 0\n",
    "f = 0\n",
    "count = 0\n",
    "\n",
    "for i in range(10):\n",
    "    rate = i+1\n",
    "    file ='data\\\\rating{}_docs.json'.format(i+1)\n",
    "    with open(file,encoding = \"utf-8\") as data_file:\n",
    "        da = json.load(data_file, object_pairs_hook=OrderedDict)\n",
    "        for m in range(len(da)):\n",
    "            if(count >= 1000):\n",
    "                count = 0\n",
    "                break;\n",
    "            tf = np.zeros(len(list_word),dtype = int)\n",
    "            for n in range(len(da[m])):\n",
    "                if da[m][n] in list_word:\n",
    "                    tf[list_word.index(da[m][n])] += 1\n",
    "            if(score[i] == score[getScore(tf,trainData)]):\n",
    "                t += 1\n",
    "            else :\n",
    "                f += 1\n",
    "            count += 1\n",
    "        \n",
    "print(\"정확도 : \", t / (t+f))\n"
   ]
  },
  {
   "cell_type": "code",
   "execution_count": null,
   "metadata": {},
   "outputs": [],
   "source": []
  }
 ],
 "metadata": {
  "kernelspec": {
   "display_name": "Python 3",
   "language": "python",
   "name": "python3"
  },
  "language_info": {
   "codemirror_mode": {
    "name": "ipython",
    "version": 3
   },
   "file_extension": ".py",
   "mimetype": "text/x-python",
   "name": "python",
   "nbconvert_exporter": "python",
   "pygments_lexer": "ipython3",
   "version": "3.6.8"
  }
 },
 "nbformat": 4,
 "nbformat_minor": 2
}
